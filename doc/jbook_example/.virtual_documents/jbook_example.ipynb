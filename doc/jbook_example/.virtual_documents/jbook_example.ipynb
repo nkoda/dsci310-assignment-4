import pandas as pd
from myst_nb import glue


horses_sd = pd.read_csv("../../results/horses_sd.csv")

largest_sd_prov = str(horses_sd['Province'][0])
glue("largest-sd-prov", largest_sd_prov)

horses_sd_noindex = horses_sd.style.hide_index()
glue("horses-tbl", horses_sd_noindex)



